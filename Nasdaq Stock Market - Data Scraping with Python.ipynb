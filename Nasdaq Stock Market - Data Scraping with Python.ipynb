{
 "cells": [
  {
   "cell_type": "code",
   "execution_count": 1,
   "id": "08fff8f0",
   "metadata": {},
   "outputs": [],
   "source": [
    "# Importing the libraries required\n",
    "\n",
    "from bs4 import BeautifulSoup\n",
    "import requests\n",
    "import time\n",
    "import datetime\n",
    "import pandas as pd\n",
    "import numpy as np\n",
    "import csv \n"
   ]
  },
  {
   "cell_type": "code",
   "execution_count": 2,
   "id": "4d3ce86c",
   "metadata": {},
   "outputs": [
    {
     "name": "stdout",
     "output_type": "stream",
     "text": [
      "200\n"
     ]
    }
   ],
   "source": [
    "# Connect to Website \n",
    "\n",
    "url = 'https://www.google.com/finance/quote/GOOG:NASDAQ'\n",
    "headers = {\"User-Agent\": \"Mozilla/5.0 (Windows NT 10.0; Win64; x64) AppleWebKit/537.36 (KHTML, like Gecko) Chrome/78.0.3904.108 Safari/537.36\"}\n",
    "\n",
    "web_page = requests.get(url, headers=headers)\n",
    "print(web_page.status_code)"
   ]
  },
  {
   "cell_type": "code",
   "execution_count": 3,
   "id": "2a757a3b",
   "metadata": {},
   "outputs": [],
   "source": [
    "# Get the HTML Data from the Website\n",
    "\n",
    "soup = BeautifulSoup(web_page.content, \"html.parser\")\n",
    "soup_final = BeautifulSoup(soup.prettify(), \"html.parser\")\n",
    "\n",
    "# print(soup_final)"
   ]
  },
  {
   "cell_type": "code",
   "execution_count": 4,
   "id": "fdc650c1",
   "metadata": {},
   "outputs": [],
   "source": [
    "# Get the Stock Data from the Website and clean it\n",
    "\n",
    "company = soup_final.find(\"div\",{\"class\":\"zzDege\"}).get_text().strip()\n",
    "# print(company)\n",
    "\n",
    "share = soup_final.find(\"div\", {\"class\":\"YMlKec fxKbKc\"}).get_text().strip()[1:]\n",
    "# print(share)\n",
    "\n",
    "change = soup_final.find(\"span\", {\"class\":\"JwB6zf\"}).get_text().strip()[:-1]\n",
    "# print(change)\n",
    "\n",
    "date = datetime.date.today()\n",
    "# print(date)\n"
   ]
  },
  {
   "cell_type": "code",
   "execution_count": 5,
   "id": "790d0ab3",
   "metadata": {},
   "outputs": [
    {
     "name": "stdout",
     "output_type": "stream",
     "text": [
      "Loading:  https://www.google.com/finance/quote/GOOG:NASDAQ\n",
      "Alphabet Inc Class C 2,392.28 0.086 2022-04-23\n"
     ]
    }
   ],
   "source": [
    "# Test Run for the results\n",
    "print('Loading: ', url)\n",
    "print(company, share, change, date)"
   ]
  },
  {
   "cell_type": "code",
   "execution_count": 6,
   "id": "87d974bd",
   "metadata": {},
   "outputs": [
    {
     "name": "stdout",
     "output_type": "stream",
     "text": [
      "Loading:  https://www.google.com/finance/quote/GOOG:NASDAQ\n",
      "Alphabet Inc Class C 2,392.28 0.086 2022-04-23\n",
      "Loading:  https://www.google.com/finance/quote/AAPL:NASDAQ\n",
      "Apple Inc 161.79 0.18 2022-04-23\n",
      "Loading:  https://www.google.com/finance/quote/TSLA:NASDAQ\n",
      "Tesla Inc 1,005.05 0.47 2022-04-23\n",
      "Loading:  https://www.google.com/finance/quote/AMZN:NASDAQ\n",
      "Amazon.com, Inc. 2,887.00 0.17 2022-04-23\n",
      "Loading:  https://www.google.com/finance/quote/FB:NASDAQ\n",
      "Meta Platforms Inc 184.11 0.49 2022-04-23\n",
      "Loading:  https://www.google.com/finance/quote/MSFT:NASDAQ\n",
      "Microsoft Corporation 274.03 0.38 2022-04-23\n"
     ]
    }
   ],
   "source": [
    "# Lets view stock data for multiple companies\n",
    "\n",
    "urls = ['https://www.google.com/finance/quote/GOOG:NASDAQ','https://www.google.com/finance/quote/AAPL:NASDAQ',\n",
    "        'https://www.google.com/finance/quote/TSLA:NASDAQ', 'https://www.google.com/finance/quote/AMZN:NASDAQ',\n",
    "        'https://www.google.com/finance/quote/FB:NASDAQ', 'https://www.google.com/finance/quote/MSFT:NASDAQ']\n",
    "\n",
    "for url in urls:\n",
    "    web_page = requests.get(url, headers=headers)\n",
    "    soup = BeautifulSoup(web_page.content, \"html.parser\")\n",
    "    soup_final = BeautifulSoup(soup.prettify(), \"html.parser\")\n",
    "    \n",
    "    company_name = soup_final.find(\"div\",{\"class\":\"zzDege\"}).get_text().strip()\n",
    "\n",
    "    share_price = soup_final.find(\"div\", {\"class\":\"YMlKec fxKbKc\"}).get_text().strip()[1:]\n",
    "\n",
    "    per_change = soup_final.find(\"span\", {\"class\":\"JwB6zf\"}).get_text().strip()[:-1]\n",
    "\n",
    "    date = datetime.date.today()\n",
    "\n",
    "    print('Loading: ', url)\n",
    "    print(company_name, share_price, per_change, date)\n"
   ]
  },
  {
   "cell_type": "code",
   "execution_count": 7,
   "id": "b060f6fd",
   "metadata": {},
   "outputs": [],
   "source": [
    "# Create a CSV file and write headers and the above data into the file\n",
    "\n",
    "header = ['Company', 'Share Price in $', '% Change', 'Date']\n",
    "\n",
    "for url in urls:\n",
    "    if url == urls[0]:\n",
    "        web_page = requests.get(url, headers=headers)\n",
    "        soup = BeautifulSoup(web_page.content, \"html.parser\")\n",
    "        soup_final = BeautifulSoup(soup.prettify(), \"html.parser\")\n",
    "    \n",
    "        company_name = soup_final.find(\"div\",{\"class\":\"zzDege\"}).get_text().strip()\n",
    "        share_price = soup_final.find(\"div\", {\"class\":\"YMlKec fxKbKc\"}).get_text().strip()[1:]\n",
    "        per_change = soup_final.find(\"span\", {\"class\":\"JwB6zf\"}).get_text().strip()[:-1]\n",
    "        date = datetime.date.today()\n",
    "        \n",
    "        data = [company_name, share_price, per_change, date]\n",
    "        \n",
    "        # For the first instance write the data\n",
    "        with open('StockMarketWebScraperDataset.csv', 'w', newline='', encoding='UTF8') as f:\n",
    "            writer = csv.writer(f)\n",
    "            writer.writerow(header)\n",
    "            writer.writerow(data)\n",
    "            \n",
    "    else:\n",
    "        web_page = requests.get(url, headers=headers)\n",
    "        soup = BeautifulSoup(web_page.content, \"html.parser\")\n",
    "        soup_final = BeautifulSoup(soup.prettify(), \"html.parser\")\n",
    "    \n",
    "        company_name = soup_final.find(\"div\",{\"class\":\"zzDege\"}).get_text().strip()\n",
    "        share_price = soup_final.find(\"div\", {\"class\":\"YMlKec fxKbKc\"}).get_text().strip()[1:]\n",
    "        per_change = soup_final.find(\"span\", {\"class\":\"JwB6zf\"}).get_text().strip()[:-1]\n",
    "        date = datetime.date.today()\n",
    "        \n",
    "        data = [company_name, share_price, per_change, date]\n",
    "        \n",
    "        # After that we will append the data\n",
    "        with open('StockMarketWebScraperDataset.csv', 'a+', newline='', encoding='UTF8') as f:\n",
    "            writer = csv.writer(f)\n",
    "            writer.writerow(data)\n",
    "            \n"
   ]
  },
  {
   "cell_type": "code",
   "execution_count": 9,
   "id": "48d84dbe",
   "metadata": {},
   "outputs": [
    {
     "name": "stdout",
     "output_type": "stream",
     "text": [
      "                 Company Share Price in $  % Change      Date\n",
      "0   Alphabet Inc Class C         2,392.28     0.086  23-04-22\n",
      "1              Apple Inc           161.79     0.180  23-04-22\n",
      "2              Tesla Inc         1,005.05     0.470  23-04-22\n",
      "3       Amazon.com, Inc.         2,887.00     0.170  23-04-22\n",
      "4     Meta Platforms Inc           184.11     0.490  23-04-22\n",
      "5  Microsoft Corporation           274.03     0.380  23-04-22\n"
     ]
    }
   ],
   "source": [
    "df = pd.read_csv('C:/Users/hasan/Documents/Python Scripts/Stock Data - Web Scraping Project using python/StockMarketWebScraperDataset.csv')\n",
    "\n",
    "print(df)"
   ]
  },
  {
   "cell_type": "code",
   "execution_count": null,
   "id": "b85b42e7",
   "metadata": {},
   "outputs": [],
   "source": [
    "# Automating the process by creating a method to populate the dataframe every day (if needed)\n",
    "\n",
    "\"\"\"\n",
    "# Method to autopopulate the csv file with Stock Data everyday \n",
    "\n",
    "def check_stock():\n",
    "    for url in urls:\n",
    "        web_page = requests.get(url, headers=headers)\n",
    "        soup = BeautifulSoup(web_page.content, \"html.parser\")\n",
    "        soup_final = BeautifulSoup(soup.prettify(), \"html.parser\")\n",
    "    \n",
    "        company_name = soup_final.find(\"div\",{\"class\":\"zzDege\"}).get_text().strip()\n",
    "        share_price = soup_final.find(\"div\", {\"class\":\"YMlKec fxKbKc\"}).get_text().strip()[1:]\n",
    "        per_change = soup_final.find(\"span\", {\"class\":\"JwB6zf\"}).get_text().strip()[:-1]\n",
    "        date = datetime.date.today()\n",
    "        \n",
    "        data = [company_name, share_price, per_change, date]\n",
    "        \n",
    "        # After that we will append the data\n",
    "        with open('StockMarketWebScraperDataset.csv', 'a+', newline='', encoding='UTF8') as f:\n",
    "            writer = csv.writer(f)\n",
    "            writer.writerow(data)\n",
    "            \n",
    "while(True):\n",
    "    check_stock()\n",
    "    time.sleep(86400) # Time is seconds\n",
    "\n",
    "\n",
    "df = pd.read_csv('C:/Users/hasan/Documents/Python Scripts/Stock Data - Web Scraping Project using python/StockMarketWebScraperDataset.csv')\n",
    "\n",
    "print(df)\n",
    "\"\"\""
   ]
  }
 ],
 "metadata": {
  "kernelspec": {
   "display_name": "Python 3 (ipykernel)",
   "language": "python",
   "name": "python3"
  },
  "language_info": {
   "codemirror_mode": {
    "name": "ipython",
    "version": 3
   },
   "file_extension": ".py",
   "mimetype": "text/x-python",
   "name": "python",
   "nbconvert_exporter": "python",
   "pygments_lexer": "ipython3",
   "version": "3.9.7"
  }
 },
 "nbformat": 4,
 "nbformat_minor": 5
}
